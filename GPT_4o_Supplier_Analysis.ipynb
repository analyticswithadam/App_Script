{
  "nbformat": 4,
  "nbformat_minor": 0,
  "metadata": {
    "colab": {
      "provenance": [],
      "include_colab_link": true
    },
    "kernelspec": {
      "name": "python3",
      "display_name": "Python 3"
    },
    "language_info": {
      "name": "python"
    }
  },
  "cells": [
    {
      "cell_type": "markdown",
      "metadata": {
        "id": "view-in-github",
        "colab_type": "text"
      },
      "source": [
        "<a href=\"https://colab.research.google.com/github/analyticswithadam/App_Script/blob/main/GPT_4o_Supplier_Analysis.ipynb\" target=\"_parent\"><img src=\"https://colab.research.google.com/assets/colab-badge.svg\" alt=\"Open In Colab\"/></a>"
      ]
    },
    {
      "cell_type": "code",
      "source": [
        "# get the openai secret key\n",
        "import pandas\n",
        "import getpass\n",
        "secret_key = getpass.getpass('Please enter your openai key: ')\n",
        "from IPython.display import display, Markdown"
      ],
      "metadata": {
        "id": "c1rYBN0yrbWN"
      },
      "execution_count": null,
      "outputs": []
    },
    {
      "cell_type": "code",
      "source": [
        "!pip install openai"
      ],
      "metadata": {
        "id": "JuZBdwmro4-B"
      },
      "execution_count": null,
      "outputs": []
    },
    {
      "cell_type": "code",
      "source": [
        "%pip install alpha_vantage"
      ],
      "metadata": {
        "id": "XX9820Ks7zB1"
      },
      "execution_count": null,
      "outputs": []
    },
    {
      "cell_type": "code",
      "source": [
        "import requests\n",
        "import json\n",
        "from IPython.display import display, Markdown\n",
        "\n",
        "api_key = '6605TQULF0O9MKET'\n",
        "ticker = 'DIS'  # Example ticker\n",
        "\n",
        "# Function to fetch financial data\n",
        "def fetch_financial_data(function, ticker, api_key):\n",
        "    url = f\"https://www.alphavantage.co/query?function={function}&symbol={ticker}&apikey={api_key}\"\n",
        "    response = requests.get(url)\n",
        "    if response.status_code == 200:\n",
        "        return response.json()\n",
        "    else:\n",
        "        print(f\"Error fetching {function} data.\")\n",
        "        return None\n",
        "\n",
        "# Fetch income statement\n",
        "income_statement = fetch_financial_data(\"INCOME_STATEMENT\", ticker, api_key)\n",
        "\n",
        "\n",
        "\n",
        "# Fetch balance sheet\n",
        "balance_sheet = fetch_financial_data(\"BALANCE_SHEET\", ticker, api_key)"
      ],
      "metadata": {
        "id": "u7xujhsgxTDR"
      },
      "execution_count": null,
      "outputs": []
    },
    {
      "cell_type": "code",
      "source": [
        "# Assuming you've already fetched the balance sheet data as 'balance_sheet'\n",
        "quarterly_income_reports = income_statement['quarterlyReports'][:4]\n",
        "quarterly_balance_reports = balance_sheet['quarterlyReports'][:4]\n",
        "\n",
        "formatted_data = {\"financialData\": []}\n",
        "\n",
        "# Iterate through the income reports and balance reports simultaneously\n",
        "for income_report, balance_report in zip(quarterly_income_reports, quarterly_balance_reports):\n",
        "    # Filter out entries with values \"None\" or an empty string for income statement\n",
        "    formatted_income_report = {k: v for k, v in income_report.items() if v not in [\"None\", \"\"]}\n",
        "    # Filter out entries with values \"None\" or an empty string for balance sheet\n",
        "    formatted_balance_report = {k: v for k, v in balance_report.items() if v not in [\"None\", \"\"]}\n",
        "    # Combine the data from both reports\n",
        "    formatted_report = {**formatted_income_report, **formatted_balance_report}\n",
        "    # Append the combined report to the financialData list\n",
        "    formatted_data[\"financialData\"].append(formatted_report)\n",
        "\n",
        "# Convert the combined data to a JSON string\n",
        "out_string = json.dumps(formatted_data, indent=4)\n",
        "print(out_string)"
      ],
      "metadata": {
        "id": "YcTyS-IhCvmu"
      },
      "execution_count": null,
      "outputs": []
    },
    {
      "cell_type": "code",
      "source": [
        "from openai import OpenAI\n",
        "client = OpenAI(api_key=secret_key)\n",
        "\n",
        "def get_response(prompt):\n",
        "  # Create a request to the chat completions endpoint\n",
        "  response = client.chat.completions.create(\n",
        "    model=\"gpt-4o\",\n",
        "    # Assign the role and content for the message\n",
        "    messages=\n",
        "     [\n",
        "        {\n",
        "            \"role\": \"system\", \"content\": \"\"\"\n",
        "\n",
        "              Role\n",
        "              -------\n",
        "              You are a CPA Employed in the Finance Function, tasked with assessing supplier risk.\n",
        "\n",
        "              Task\n",
        "              ------\n",
        "              Analyze the provided 4 quarters of financial data.\n",
        "              Compare the financials between the four quarters, noting any significant movements or trends.\n",
        "              Evaluate the implications of these movements for the company's financial health and operational efficiency.\n",
        "\n",
        "              From the perspective of a company reciving services from this company highlight key risks in growing sales and getting paid on time strictly from\n",
        "              what you have gathered from the financials.\n",
        "\n",
        "              Decide whether the team need to investigate this supplier further for risk backed up the financials.\n",
        "\n",
        "              Output\n",
        "              ------\n",
        "              Ensure the analysis reflects the specific relevant movements across the quarters,\n",
        "              highlighting significant changes relevant to their viability as a major supplier.\n",
        "              The output should strictly adhere to the data provided, avoiding assumptions or inferences not directly supported by the numbers.\n",
        "              Im printing in markdown in python ensure summary tables readible and numeric text is legible\n",
        "              Do not include any currency symbols, use 22.5M USD instead of $22.5M, display figures in millions and use thousand seperators where appropriate ie 23,100M\n",
        "\n",
        "\n",
        "              Data\n",
        "              -----\n",
        "\n",
        "            \"\"\"\n",
        "        },\n",
        "        {\n",
        "            \"role\": \"user\", \"content\": prompt\n",
        "        }\n",
        "     ],\n",
        "    temperature = 0.4,\n",
        "    max_tokens=3000)\n",
        "  return response.choices[0].message.content"
      ],
      "metadata": {
        "id": "w309wtpY89Vr"
      },
      "execution_count": null,
      "outputs": []
    },
    {
      "cell_type": "code",
      "source": [
        "output = get_response(out_string)"
      ],
      "metadata": {
        "id": "tIq-E_8eC-f4"
      },
      "execution_count": 36,
      "outputs": []
    },
    {
      "cell_type": "code",
      "source": [
        "display(Markdown(output))"
      ],
      "metadata": {
        "id": "zLZY5-ZmttQM",
        "colab": {
          "base_uri": "https://localhost:8080/",
          "height": 1000
        },
        "outputId": "6d60fec8-9b71-4c39-da2d-1db0d6fc2b6b"
      },
      "execution_count": 37,
      "outputs": [
        {
          "output_type": "display_data",
          "data": {
            "text/plain": [
              "<IPython.core.display.Markdown object>"
            ],
            "text/markdown": "# Financial Analysis of Supplier\n\n## Quarterly Financial Data Summary\n\nBelow is a summary of the key financial metrics for the supplier over the last four quarters:\n\n| Metric                          | 2024-03-31 | 2023-12-31 | 2023-09-30 | 2023-06-30 |\n|---------------------------------|------------|------------|------------|------------|\n| **Total Revenue (M)**           | 22,083     | 23,549     | 21,241     | 22,330     |\n| **Gross Profit (M)**            | 15,910     | 19,415     | 16,069     | 15,461     |\n| **Operating Income (M)**        | 3,845      | 3,876      | 2,976      | 3,559      |\n| **Net Income (M)**              | -20        | 1,911      | 264        | -460       |\n| **Total Assets (M)**            | 195,110    | 197,774    | 205,579    | 203,783    |\n| **Total Liabilities (M)**       | 95,858     | 97,053     | 106,302    | 106,173    |\n| **Total Shareholder Equity (M)**| 99,252     | 100,721    | 99,277     | 97,610     |\n| **Cash and Cash Equivalents (M)**| 6,635      | 7,192      | 14,182     | 11,458     |\n| **Current Net Receivables (M)** | 12,026     | 14,115     | 12,330     | 13,112     |\n| **Current Liabilities (M)**     | 32,874     | 31,033     | 31,139     | 28,234     |\n| **Current Debt (M)**            | 6,789      | 6,087      | 4,367      | 2,645      |\n\n## Analysis of Financial Movements\n\n### Revenue and Profitability\n- **Total Revenue**: There was a noticeable decline from 23,549M in Q4 2023 to 22,083M in Q1 2024. This represents a drop of approximately 6.2%.\n- **Gross Profit**: Gross profit has decreased significantly from 19,415M in Q4 2023 to 15,910M in Q1 2024, a reduction of about 18%.\n- **Operating Income**: Operating income remained relatively stable between Q4 2023 and Q1 2024, with a slight decrease from 3,876M to 3,845M.\n- **Net Income**: Net income fluctuated significantly, with a notable drop from 1,911M in Q4 2023 to a loss of 20M in Q1 2024. This indicates potential issues in managing costs or other non-operating expenses.\n\n### Asset and Liability Management\n- **Total Assets**: Total assets decreased from 205,579M in Q3 2023 to 195,110M in Q1 2024, indicating a reduction in the asset base.\n- **Total Liabilities**: Total liabilities decreased from 106,302M in Q3 2023 to 95,858M in Q1 2024, which is a positive sign of reducing debt or other liabilities.\n- **Total Shareholder Equity**: Shareholder equity has remained relatively stable, with a slight decrease from 100,721M in Q4 2023 to 99,252M in Q1 2024.\n\n### Liquidity and Solvency\n- **Cash and Cash Equivalents**: There was a significant reduction in cash and cash equivalents from 14,182M in Q3 2023 to 6,635M in Q1 2024, which could impact the company's liquidity.\n- **Current Net Receivables**: Current net receivables decreased from 14,115M in Q4 2023 to 12,026M in Q1 2024, indicating potential collection issues or reduced sales.\n- **Current Liabilities**: Current liabilities increased from 28,234M in Q2 2023 to 32,874M in Q1 2024, which could strain the company's short-term financial health.\n- **Current Debt**: Current debt increased from 2,645M in Q2 2023 to 6,789M in Q1 2024, indicating higher short-term borrowing.\n\n## Key Risks and Recommendations\n\n### Risks\n1. **Revenue Decline**: The decline in total revenue and gross profit indicates potential challenges in maintaining sales growth or managing cost of goods sold.\n2. **Net Income Volatility**: The significant fluctuations in net income, including a loss in Q1 2024, raise concerns about the company's profitability and cost management.\n3. **Liquidity Concerns**: The substantial reduction in cash and cash equivalents could impact the company's ability to meet short-term obligations and invest in growth opportunities.\n4. **Increased Current Liabilities and Debt**: The increase in current liabilities and short-term debt could strain the company's liquidity and operational efficiency.\n\n### Recommendations\n- **Further Investigation**: Given the significant movements in revenue, profitability, and liquidity metrics, it is recommended to investigate this supplier further to assess the underlying causes and potential risks.\n- **Monitor Receivables**: Closely monitor the supplier's receivables and payment patterns to ensure timely payments and reduce the risk of bad debts.\n- **Evaluate Financial Stability**: Assess the supplier's financial stability and ability to meet short-term obligations, considering the increase in current liabilities and debt.\n\nBased on the analysis, further investigation into the supplier's financial health and operational efficiency is warranted to mitigate potential risks in growing sales and ensuring timely payments."
          },
          "metadata": {}
        }
      ]
    }
  ]
}